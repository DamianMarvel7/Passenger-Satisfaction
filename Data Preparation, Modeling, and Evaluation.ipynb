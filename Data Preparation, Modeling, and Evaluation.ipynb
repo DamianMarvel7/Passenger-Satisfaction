{
 "cells": [
  {
   "cell_type": "code",
   "execution_count": 1,
   "id": "093838fa",
   "metadata": {},
   "outputs": [],
   "source": [
    "import numpy as np\n",
    "import pandas as pd\n",
    "import matplotlib.pyplot as plt\n",
    "import seaborn as sns\n",
    "import plotly.express as px\n",
    "\n",
    "\n",
    "\n",
    "from sklearn.model_selection import StratifiedKFold\n",
    "from sklearn.preprocessing import OrdinalEncoder\n",
    "from sklearn.preprocessing import LabelEncoder\n",
    "from sklearn.metrics import roc_auc_score\n",
    "from sklearn.model_selection import train_test_split\n",
    "\n",
    "\n",
    "\n",
    "from xgboost import XGBClassifier\n",
    "from catboost import CatBoostClassifier\n",
    "from lightgbm import LGBMClassifier\n",
    "\n",
    "\n",
    "from matplotlib import ticker\n",
    "import time\n",
    "import warnings\n",
    "pd.set_option('display.max_columns', None)\n",
    "pd.set_option('float_format', '{:f}'.format)\n",
    "warnings.filterwarnings('ignore')\n",
    "\n",
    "\n",
    "RANDOM_STATE = 12 \n",
    "FOLDS = 5"
   ]
  },
  {
   "cell_type": "markdown",
   "id": "b618effd",
   "metadata": {},
   "source": [
    "# Data Cleaning"
   ]
  },
  {
   "cell_type": "code",
   "execution_count": 2,
   "id": "1a6890d8",
   "metadata": {},
   "outputs": [],
   "source": [
    "df = pd.read_csv('train.csv')\n",
    "df.drop(['Unnamed: 0','id'],axis=1,inplace=True)"
   ]
  },
  {
   "cell_type": "code",
   "execution_count": 3,
   "id": "db08b821",
   "metadata": {},
   "outputs": [
    {
     "data": {
      "text/html": [
       "<div>\n",
       "<style scoped>\n",
       "    .dataframe tbody tr th:only-of-type {\n",
       "        vertical-align: middle;\n",
       "    }\n",
       "\n",
       "    .dataframe tbody tr th {\n",
       "        vertical-align: top;\n",
       "    }\n",
       "\n",
       "    .dataframe thead th {\n",
       "        text-align: right;\n",
       "    }\n",
       "</style>\n",
       "<table border=\"1\" class=\"dataframe\">\n",
       "  <thead>\n",
       "    <tr style=\"text-align: right;\">\n",
       "      <th></th>\n",
       "      <th>Gender</th>\n",
       "      <th>Customer Type</th>\n",
       "      <th>Age</th>\n",
       "      <th>Type of Travel</th>\n",
       "      <th>Class</th>\n",
       "      <th>Flight Distance</th>\n",
       "      <th>Inflight wifi service</th>\n",
       "      <th>Departure/Arrival time convenient</th>\n",
       "      <th>Ease of Online booking</th>\n",
       "      <th>Gate location</th>\n",
       "      <th>Food and drink</th>\n",
       "      <th>Online boarding</th>\n",
       "      <th>Seat comfort</th>\n",
       "      <th>Inflight entertainment</th>\n",
       "      <th>On-board service</th>\n",
       "      <th>Leg room service</th>\n",
       "      <th>Baggage handling</th>\n",
       "      <th>Checkin service</th>\n",
       "      <th>Inflight service</th>\n",
       "      <th>Cleanliness</th>\n",
       "      <th>Departure Delay in Minutes</th>\n",
       "      <th>Arrival Delay in Minutes</th>\n",
       "      <th>satisfaction</th>\n",
       "    </tr>\n",
       "  </thead>\n",
       "  <tbody>\n",
       "    <tr>\n",
       "      <th>0</th>\n",
       "      <td>Male</td>\n",
       "      <td>Loyal Customer</td>\n",
       "      <td>13</td>\n",
       "      <td>Personal Travel</td>\n",
       "      <td>Eco Plus</td>\n",
       "      <td>460</td>\n",
       "      <td>3</td>\n",
       "      <td>4</td>\n",
       "      <td>3</td>\n",
       "      <td>1</td>\n",
       "      <td>5</td>\n",
       "      <td>3</td>\n",
       "      <td>5</td>\n",
       "      <td>5</td>\n",
       "      <td>4</td>\n",
       "      <td>3</td>\n",
       "      <td>4</td>\n",
       "      <td>4</td>\n",
       "      <td>5</td>\n",
       "      <td>5</td>\n",
       "      <td>25</td>\n",
       "      <td>18.000000</td>\n",
       "      <td>neutral or dissatisfied</td>\n",
       "    </tr>\n",
       "    <tr>\n",
       "      <th>1</th>\n",
       "      <td>Male</td>\n",
       "      <td>disloyal Customer</td>\n",
       "      <td>25</td>\n",
       "      <td>Business travel</td>\n",
       "      <td>Business</td>\n",
       "      <td>235</td>\n",
       "      <td>3</td>\n",
       "      <td>2</td>\n",
       "      <td>3</td>\n",
       "      <td>3</td>\n",
       "      <td>1</td>\n",
       "      <td>3</td>\n",
       "      <td>1</td>\n",
       "      <td>1</td>\n",
       "      <td>1</td>\n",
       "      <td>5</td>\n",
       "      <td>3</td>\n",
       "      <td>1</td>\n",
       "      <td>4</td>\n",
       "      <td>1</td>\n",
       "      <td>1</td>\n",
       "      <td>6.000000</td>\n",
       "      <td>neutral or dissatisfied</td>\n",
       "    </tr>\n",
       "    <tr>\n",
       "      <th>2</th>\n",
       "      <td>Female</td>\n",
       "      <td>Loyal Customer</td>\n",
       "      <td>26</td>\n",
       "      <td>Business travel</td>\n",
       "      <td>Business</td>\n",
       "      <td>1142</td>\n",
       "      <td>2</td>\n",
       "      <td>2</td>\n",
       "      <td>2</td>\n",
       "      <td>2</td>\n",
       "      <td>5</td>\n",
       "      <td>5</td>\n",
       "      <td>5</td>\n",
       "      <td>5</td>\n",
       "      <td>4</td>\n",
       "      <td>3</td>\n",
       "      <td>4</td>\n",
       "      <td>4</td>\n",
       "      <td>4</td>\n",
       "      <td>5</td>\n",
       "      <td>0</td>\n",
       "      <td>0.000000</td>\n",
       "      <td>satisfied</td>\n",
       "    </tr>\n",
       "    <tr>\n",
       "      <th>3</th>\n",
       "      <td>Female</td>\n",
       "      <td>Loyal Customer</td>\n",
       "      <td>25</td>\n",
       "      <td>Business travel</td>\n",
       "      <td>Business</td>\n",
       "      <td>562</td>\n",
       "      <td>2</td>\n",
       "      <td>5</td>\n",
       "      <td>5</td>\n",
       "      <td>5</td>\n",
       "      <td>2</td>\n",
       "      <td>2</td>\n",
       "      <td>2</td>\n",
       "      <td>2</td>\n",
       "      <td>2</td>\n",
       "      <td>5</td>\n",
       "      <td>3</td>\n",
       "      <td>1</td>\n",
       "      <td>4</td>\n",
       "      <td>2</td>\n",
       "      <td>11</td>\n",
       "      <td>9.000000</td>\n",
       "      <td>neutral or dissatisfied</td>\n",
       "    </tr>\n",
       "    <tr>\n",
       "      <th>4</th>\n",
       "      <td>Male</td>\n",
       "      <td>Loyal Customer</td>\n",
       "      <td>61</td>\n",
       "      <td>Business travel</td>\n",
       "      <td>Business</td>\n",
       "      <td>214</td>\n",
       "      <td>3</td>\n",
       "      <td>3</td>\n",
       "      <td>3</td>\n",
       "      <td>3</td>\n",
       "      <td>4</td>\n",
       "      <td>5</td>\n",
       "      <td>5</td>\n",
       "      <td>3</td>\n",
       "      <td>3</td>\n",
       "      <td>4</td>\n",
       "      <td>4</td>\n",
       "      <td>3</td>\n",
       "      <td>3</td>\n",
       "      <td>3</td>\n",
       "      <td>0</td>\n",
       "      <td>0.000000</td>\n",
       "      <td>satisfied</td>\n",
       "    </tr>\n",
       "  </tbody>\n",
       "</table>\n",
       "</div>"
      ],
      "text/plain": [
       "   Gender      Customer Type  Age   Type of Travel     Class  Flight Distance  \\\n",
       "0    Male     Loyal Customer   13  Personal Travel  Eco Plus              460   \n",
       "1    Male  disloyal Customer   25  Business travel  Business              235   \n",
       "2  Female     Loyal Customer   26  Business travel  Business             1142   \n",
       "3  Female     Loyal Customer   25  Business travel  Business              562   \n",
       "4    Male     Loyal Customer   61  Business travel  Business              214   \n",
       "\n",
       "   Inflight wifi service  Departure/Arrival time convenient  \\\n",
       "0                      3                                  4   \n",
       "1                      3                                  2   \n",
       "2                      2                                  2   \n",
       "3                      2                                  5   \n",
       "4                      3                                  3   \n",
       "\n",
       "   Ease of Online booking  Gate location  Food and drink  Online boarding  \\\n",
       "0                       3              1               5                3   \n",
       "1                       3              3               1                3   \n",
       "2                       2              2               5                5   \n",
       "3                       5              5               2                2   \n",
       "4                       3              3               4                5   \n",
       "\n",
       "   Seat comfort  Inflight entertainment  On-board service  Leg room service  \\\n",
       "0             5                       5                 4                 3   \n",
       "1             1                       1                 1                 5   \n",
       "2             5                       5                 4                 3   \n",
       "3             2                       2                 2                 5   \n",
       "4             5                       3                 3                 4   \n",
       "\n",
       "   Baggage handling  Checkin service  Inflight service  Cleanliness  \\\n",
       "0                 4                4                 5            5   \n",
       "1                 3                1                 4            1   \n",
       "2                 4                4                 4            5   \n",
       "3                 3                1                 4            2   \n",
       "4                 4                3                 3            3   \n",
       "\n",
       "   Departure Delay in Minutes  Arrival Delay in Minutes  \\\n",
       "0                          25                 18.000000   \n",
       "1                           1                  6.000000   \n",
       "2                           0                  0.000000   \n",
       "3                          11                  9.000000   \n",
       "4                           0                  0.000000   \n",
       "\n",
       "              satisfaction  \n",
       "0  neutral or dissatisfied  \n",
       "1  neutral or dissatisfied  \n",
       "2                satisfied  \n",
       "3  neutral or dissatisfied  \n",
       "4                satisfied  "
      ]
     },
     "execution_count": 3,
     "metadata": {},
     "output_type": "execute_result"
    }
   ],
   "source": [
    "df.head()"
   ]
  },
  {
   "cell_type": "markdown",
   "id": "1091133b",
   "metadata": {},
   "source": [
    "### Formatting"
   ]
  },
  {
   "cell_type": "code",
   "execution_count": 4,
   "id": "1f9473b7",
   "metadata": {},
   "outputs": [],
   "source": [
    "df.rename({'satisfaction':'Satisfaction'},axis=1,inplace=True)\n",
    "df['Satisfaction'] = np.where(df['Satisfaction']=='satisfied',1,0)"
   ]
  },
  {
   "cell_type": "markdown",
   "id": "9c7951fe",
   "metadata": {},
   "source": [
    "To achieve consistent formatting for all columns, the \"satisfaction\" column can be renamed with the first letter capitalized. Additionally, the values in the \"satisfied\" column can be converted, where \"satisfied\" is assigned a value of 1, and \"neutral or dissatisfied\" are assigned a value of 0."
   ]
  },
  {
   "cell_type": "code",
   "execution_count": 5,
   "id": "54ce8183",
   "metadata": {},
   "outputs": [],
   "source": [
    "target = 'Satisfaction'\n",
    "features = [col for col in df.columns if col not in [target]]\n",
    "cat_features = [col for col in features if df[col].nunique() < 25]\n",
    "cont_features = [col for col in features if df[col].nunique() >= 25]"
   ]
  },
  {
   "cell_type": "markdown",
   "id": "8c9b4e87",
   "metadata": {},
   "source": [
    "### Create New Feature"
   ]
  },
  {
   "cell_type": "code",
   "execution_count": 6,
   "id": "c6376218",
   "metadata": {},
   "outputs": [],
   "source": [
    "df['Seat comfort high rating'] = np.where(df['Seat comfort']>3,1,0)\n",
    "df['Inflight entertainment high rating'] = np.where(df['Inflight entertainment']>3,1,0)\n",
    "df['On-board service high rating'] = np.where(df['On-board service']>3,1,0)\n",
    "df['Leg room high rating'] = np.where(df['Leg room service']>3,1,0)\n",
    "\n",
    "features.append('Seat comfort high rating')\n",
    "features.append('Inflight entertainment high rating')\n",
    "features.append('On-board service high rating')\n",
    "features.append('Leg room high rating')"
   ]
  },
  {
   "cell_type": "markdown",
   "id": "75bdabb2",
   "metadata": {},
   "source": [
    "I have observed a strong trend in the in-flight ratings, where higher ratings correspond to higher averages of the target variable. Therefore, I would like to create a new feature indicating high ratings. This feature will have a value of 1 if the rating is 4 or 5, and 0 otherwise."
   ]
  },
  {
   "cell_type": "markdown",
   "id": "b3ab707b",
   "metadata": {},
   "source": [
    "### Splitting the Dataset"
   ]
  },
  {
   "cell_type": "code",
   "execution_count": 7,
   "id": "0a1139d6",
   "metadata": {},
   "outputs": [],
   "source": [
    "X = df[features]\n",
    "y = df[target]"
   ]
  },
  {
   "cell_type": "code",
   "execution_count": 8,
   "id": "9d430c39",
   "metadata": {},
   "outputs": [
    {
     "name": "stdout",
     "output_type": "stream",
     "text": [
      "Train set shape: (66498, 26) (66498,)\n",
      "Validation set shape: (16625, 26) (16625,)\n",
      "Test set shape: (20781, 26) (20781,)\n"
     ]
    }
   ],
   "source": [
    "from sklearn.model_selection import train_test_split\n",
    "\n",
    "# Split the data into train and test sets\n",
    "X_fulltrain, X_test, y_fulltrain, y_test = train_test_split(X, y, test_size=0.2, random_state=42)\n",
    "\n",
    "# Split the train set into train and validation sets\n",
    "X_train, X_val, y_train, y_val = train_test_split(X_fulltrain, y_fulltrain, test_size=0.2, random_state=42)\n",
    "\n",
    "# Print the shapes of the resulting datasets\n",
    "print(\"Train set shape:\", X_train.shape, y_train.shape)\n",
    "print(\"Validation set shape:\", X_val.shape, y_val.shape)\n",
    "print(\"Test set shape:\", X_test.shape, y_test.shape)\n"
   ]
  },
  {
   "cell_type": "markdown",
   "id": "70eea66e",
   "metadata": {},
   "source": [
    "We will split the dataset into train, val, and test sets. The train set will be used for training the model, the val set will be used for tuning hyperparameters, and the test set will be used for the final evaluation and metrics."
   ]
  },
  {
   "cell_type": "markdown",
   "id": "7fc0cef3",
   "metadata": {},
   "source": [
    "### Handling Missing Values"
   ]
  },
  {
   "cell_type": "code",
   "execution_count": 9,
   "id": "605bb18c",
   "metadata": {},
   "outputs": [
    {
     "name": "stdout",
     "output_type": "stream",
     "text": [
      "<class 'pandas.core.frame.DataFrame'>\n",
      "RangeIndex: 103904 entries, 0 to 103903\n",
      "Data columns (total 27 columns):\n",
      " #   Column                              Non-Null Count   Dtype  \n",
      "---  ------                              --------------   -----  \n",
      " 0   Gender                              103904 non-null  object \n",
      " 1   Customer Type                       103904 non-null  object \n",
      " 2   Age                                 103904 non-null  int64  \n",
      " 3   Type of Travel                      103904 non-null  object \n",
      " 4   Class                               103904 non-null  object \n",
      " 5   Flight Distance                     103904 non-null  int64  \n",
      " 6   Inflight wifi service               103904 non-null  int64  \n",
      " 7   Departure/Arrival time convenient   103904 non-null  int64  \n",
      " 8   Ease of Online booking              103904 non-null  int64  \n",
      " 9   Gate location                       103904 non-null  int64  \n",
      " 10  Food and drink                      103904 non-null  int64  \n",
      " 11  Online boarding                     103904 non-null  int64  \n",
      " 12  Seat comfort                        103904 non-null  int64  \n",
      " 13  Inflight entertainment              103904 non-null  int64  \n",
      " 14  On-board service                    103904 non-null  int64  \n",
      " 15  Leg room service                    103904 non-null  int64  \n",
      " 16  Baggage handling                    103904 non-null  int64  \n",
      " 17  Checkin service                     103904 non-null  int64  \n",
      " 18  Inflight service                    103904 non-null  int64  \n",
      " 19  Cleanliness                         103904 non-null  int64  \n",
      " 20  Departure Delay in Minutes          103904 non-null  int64  \n",
      " 21  Arrival Delay in Minutes            103594 non-null  float64\n",
      " 22  Satisfaction                        103904 non-null  int32  \n",
      " 23  Seat comfort high rating            103904 non-null  int32  \n",
      " 24  Inflight entertainment high rating  103904 non-null  int32  \n",
      " 25  On-board service high rating        103904 non-null  int32  \n",
      " 26  Leg room high rating                103904 non-null  int32  \n",
      "dtypes: float64(1), int32(5), int64(17), object(4)\n",
      "memory usage: 19.4+ MB\n"
     ]
    }
   ],
   "source": [
    "df.info()"
   ]
  },
  {
   "cell_type": "code",
   "execution_count": 10,
   "id": "d8d5e368",
   "metadata": {},
   "outputs": [
    {
     "name": "stdout",
     "output_type": "stream",
     "text": [
      "Mean  :  15.173036894023953\n",
      "Median:  0.0\n"
     ]
    }
   ],
   "source": [
    "print('Mean  : ',X_train['Arrival Delay in Minutes'].mean())\n",
    "print('Median: ',X_train['Arrival Delay in Minutes'].median())"
   ]
  },
  {
   "cell_type": "code",
   "execution_count": 11,
   "id": "56363a52",
   "metadata": {},
   "outputs": [
    {
     "name": "stdout",
     "output_type": "stream",
     "text": [
      "Number of row with 0 values    :  37300\n",
      "Number of row with non 0 values:  29198\n"
     ]
    }
   ],
   "source": [
    "print('Number of row with 0 values    : ',len(X_train[X_train['Arrival Delay in Minutes']==0]))\n",
    "print('Number of row with non 0 values: ',len(X_train[X_train['Arrival Delay in Minutes']!=0]))"
   ]
  },
  {
   "cell_type": "markdown",
   "id": "51bd4deb",
   "metadata": {},
   "source": [
    "We observed that the \"Arrival Delay in Minutes\" feature exhibits an extreme right-skewed distribution. Additionally, there is a higher frequency of 0 minute delay occurrences. Based on this, I have decided to impute the missing values in this feature with the median value."
   ]
  },
  {
   "cell_type": "code",
   "execution_count": 12,
   "id": "100af0e3",
   "metadata": {},
   "outputs": [],
   "source": [
    "# Impute the data with median\n",
    "median = X_train['Arrival Delay in Minutes'].median()\n",
    "X_train = X_train.fillna(median)\n",
    "X_val = X_val.fillna(median)\n",
    "X_test = X_test.fillna(median)"
   ]
  },
  {
   "cell_type": "markdown",
   "id": "fc9411fa",
   "metadata": {},
   "source": [
    "### Transform the Data"
   ]
  },
  {
   "cell_type": "markdown",
   "id": "50f02fcd",
   "metadata": {},
   "source": [
    "Some Algorithm like Logistic Regression or Gaussian Naive Bayes assume the data is normal distribution. We need to apply transformation for the skewed data that we have. Also by making it normal distribution, we also can reduce the outlier that we have. This will also help for model like K-Nearest Neighbors and Support Vector Machines. \n",
    "\n",
    "We wil apply the transformation by experimenting using various technique like log or root square until it get better distribution."
   ]
  },
  {
   "cell_type": "code",
   "execution_count": 13,
   "id": "eb96a745",
   "metadata": {},
   "outputs": [
    {
     "data": {
      "text/plain": [
       "<Axes: xlabel='Flight Distance', ylabel='Count'>"
      ]
     },
     "execution_count": 13,
     "metadata": {},
     "output_type": "execute_result"
    },
    {
     "data": {
      "image/png": "[encoded data removed]",
      "text/plain": [
       "<Figure size 600x400 with 2 Axes>"
      ]
     },
     "metadata": {},
     "output_type": "display_data"
    }
   ],
   "source": [
    "# Set up the figure and axes\n",
    "fig, axes = plt.subplots(nrows=1, ncols=2, figsize=(6, 4))\n",
    "\n",
    "# Create distribution plots using Seaborn\n",
    "sns.histplot(data=X_train['Flight Distance'], ax=axes[0])\n",
    "sns.histplot(data=X_train['Flight Distance']**0.5, ax=axes[1])"
   ]
  },
  {
   "cell_type": "code",
   "execution_count": 14,
   "id": "52095850",
   "metadata": {},
   "outputs": [
    {
     "data": {
      "text/plain": [
       "<Axes: xlabel='Departure Delay in Minutes', ylabel='Count'>"
      ]
     },
     "execution_count": 14,
     "metadata": {},
     "output_type": "execute_result"
    },
    {
     "data": {
      "image/png": "[encoded data removed]",
      "text/plain": [
       "<Figure size 600x400 with 2 Axes>"
      ]
     },
     "metadata": {},
     "output_type": "display_data"
    }
   ],
   "source": [
    "# Set up the figure and axes\n",
    "fig, axes = plt.subplots(nrows=1, ncols=2, figsize=(6, 4))\n",
    "\n",
    "# Create distribution plots using Seaborn\n",
    "sns.histplot(data=X_train['Departure Delay in Minutes'], ax=axes[0])\n",
    "axes[0].set_ylim(0, 1750)\n",
    "sns.histplot(data=np.log1p(X_train['Departure Delay in Minutes']**0.5), ax=axes[1])"
   ]
  },
  {
   "cell_type": "code",
   "execution_count": 15,
   "id": "70dd085f",
   "metadata": {},
   "outputs": [
    {
     "data": {
      "text/plain": [
       "<Axes: xlabel='Arrival Delay in Minutes', ylabel='Count'>"
      ]
     },
     "execution_count": 15,
     "metadata": {},
     "output_type": "execute_result"
    },
    {
     "data": {
      "image/png": "[encoded data removed]",
      "text/plain": [
       "<Figure size 600x400 with 2 Axes>"
      ]
     },
     "metadata": {},
     "output_type": "display_data"
    }
   ],
   "source": [
    "# Set up the figure and axes\n",
    "fig, axes = plt.subplots(nrows=1, ncols=2, figsize=(6, 4))\n",
    "\n",
    "# Create distribution plots using Seaborn\n",
    "sns.histplot(data=X_train['Arrival Delay in Minutes'], ax=axes[0])\n",
    "axes[0].set_ylim(0, 1750)\n",
    "sns.histplot(data=np.log1p(X_train['Arrival Delay in Minutes']**0.5), ax=axes[1])"
   ]
  },
  {
   "cell_type": "code",
   "execution_count": 16,
   "id": "812698fa",
   "metadata": {},
   "outputs": [],
   "source": [
    "# Apply the transformation\n",
    "X_train['Flight Distance'] = X_train['Flight Distance']**0.5\n",
    "X_val['Flight Distance'] = X_val['Flight Distance']**0.5\n",
    "X_test['Flight Distance'] = X_test['Flight Distance']**0.5\n",
    "\n",
    "X_train['Departure Delay in Minutes'] = np.log1p(X_train['Departure Delay in Minutes']**0.5)\n",
    "X_val['Departure Delay in Minutes'] = np.log1p(X_val['Departure Delay in Minutes']**0.5)\n",
    "X_test['Departure Delay in Minutes'] = np.log1p(X_test['Departure Delay in Minutes']**0.5)\n",
    "\n",
    "X_train['Arrival Delay in Minutes'] = np.log1p(X_train['Arrival Delay in Minutes']**0.5)\n",
    "X_val['Arrival Delay in Minutes'] = np.log1p(X_val['Arrival Delay in Minutes']**0.5)\n",
    "X_test['Arrival Delay in Minutes'] = np.log1p(X_test['Arrival Delay in Minutes']**0.5)"
   ]
  },
  {
   "cell_type": "markdown",
   "id": "d8b5031c",
   "metadata": {},
   "source": [
    "### Scaling"
   ]
  },
  {
   "cell_type": "code",
   "execution_count": 17,
   "id": "52ac2fd8",
   "metadata": {},
   "outputs": [],
   "source": [
    "from sklearn.preprocessing import StandardScaler\n",
    "\n",
    "# Create an instance of StandardScaler\n",
    "scaler = StandardScaler()\n",
    "\n",
    "# Fit the scaler to the data and transform it\n",
    "X_train_scaled = scaler.fit_transform(X_train[cont_features])\n",
    "X_val_scaled = scaler.transform(X_val[cont_features])\n",
    "X_test_scaled = scaler.transform(X_test[cont_features])\n",
    "\n",
    "# Convert back to DataFrame\n",
    "X_train_scaled = pd.DataFrame(X_train_scaled, columns=cont_features).reset_index(drop=True)\n",
    "X_val_scaled = pd.DataFrame(X_val_scaled, columns=cont_features).reset_index(drop=True)\n",
    "X_test_scaled = pd.DataFrame(X_test_scaled, columns=cont_features).reset_index(drop=True)"
   ]
  },
  {
   "cell_type": "markdown",
   "id": "cbd7f032",
   "metadata": {},
   "source": [
    "We will scale the continuous features so that they have a similar scale or range. This is beneficial for models that use distance-based algorithms like KNN or SVM, as well as models that utilize gradient descent. "
   ]
  },
  {
   "cell_type": "markdown",
   "id": "69779d95",
   "metadata": {},
   "source": [
    "### Encode"
   ]
  },
  {
   "cell_type": "code",
   "execution_count": 18,
   "id": "638d781b",
   "metadata": {},
   "outputs": [],
   "source": [
    "from sklearn.preprocessing import OneHotEncoder, LabelEncoder\n",
    "\n",
    "# Create an instance of OneHotEncoder\n",
    "onehotencoder = OneHotEncoder(drop='first')\n",
    "\n",
    "# Fit the encoder to the data and transform it\n",
    "ohe_features = ['Gender', 'Customer Type', 'Type of Travel']\n",
    "X_train_ohe = onehotencoder.fit_transform(X_train[ohe_features])\n",
    "X_val_ohe = onehotencoder.transform(X_val[ohe_features])\n",
    "X_test_ohe = onehotencoder.transform(X_test[ohe_features])\n",
    "\n",
    "# Convert back to DataFrame\n",
    "X_train_ohe = pd.DataFrame(X_train_ohe.toarray(), columns=onehotencoder.get_feature_names_out())\n",
    "X_val_ohe = pd.DataFrame(X_val_ohe.toarray(), columns=onehotencoder.get_feature_names_out())\n",
    "X_test_ohe = pd.DataFrame(X_test_ohe.toarray(), columns=onehotencoder.get_feature_names_out())"
   ]
  },
  {
   "cell_type": "code",
   "execution_count": 19,
   "id": "e1519337",
   "metadata": {},
   "outputs": [],
   "source": [
    "from sklearn.preprocessing import OneHotEncoder, LabelEncoder\n",
    "\n",
    "# Create an instance of OneHotEncoder\n",
    "onehotencoder = OneHotEncoder(drop='first')\n",
    "\n",
    "# Fit the encoder to the data and transform it\n",
    "ohe_features = [ 'Customer Type', 'Type of Travel']\n",
    "X_train_oh = onehotencoder.fit_transform(X_train[ohe_features])\n",
    "\n",
    "# Convert back to DataFrame\n",
    "X_train_oh = pd.DataFrame(X_train_oh.toarray(), columns=onehotencoder.get_feature_names_out())"
   ]
  },
  {
   "cell_type": "markdown",
   "id": "ce565bf4",
   "metadata": {},
   "source": [
    "\n",
    "We will apply One Hot Encoding to the Gender, Customer Type, and Type of Travel features since each of them has only two unique values. By doing so, we can convert these categorical features into binary representations, specifically 0s and 1s."
   ]
  },
  {
   "cell_type": "code",
   "execution_count": 21,
   "id": "3e395434",
   "metadata": {},
   "outputs": [],
   "source": [
    "# Create an instance of LabelEncoder\n",
    "labelencoder = LabelEncoder()\n",
    "\n",
    "# Fit the encoder to the data and transform it\n",
    "X_train_le = labelencoder.fit_transform(X_train['Class'])\n",
    "X_val_le = labelencoder.fit_transform(X_val['Class'])\n",
    "X_test_le = labelencoder.fit_transform(X_test['Class'])\n",
    "\n",
    "# Convert back to DataFrame\n",
    "X_train_le = pd.DataFrame(X_train_le, columns=['Class'])\n",
    "X_val_le = pd.DataFrame(X_val_le, columns=['Class'])\n",
    "X_test_le = pd.DataFrame(X_test_le, columns=['Class'])"
   ]
  },
  {
   "cell_type": "code",
   "execution_count": 22,
   "id": "6fd23105",
   "metadata": {},
   "outputs": [],
   "source": [
    "import pickle\n",
    "\n",
    "# Save OneHotEncoder\n",
    "with open(\"onehotencoder.pkl\", \"wb\") as f:\n",
    "    pickle.dump(onehotencoder, f)\n",
    "\n",
    "# Save LabelEncoder\n",
    "with open(\"labelencoder.pkl\", \"wb\") as f:\n",
    "    pickle.dump(labelencoder, f)\n",
    "\n",
    "# Save StandardScaler\n",
    "with open(\"standardscaler.pkl\", \"wb\") as f:\n",
    "    pickle.dump(scaler, f)\n"
   ]
  },
  {
   "cell_type": "markdown",
   "id": "0aa9fbdc",
   "metadata": {},
   "source": [
    "\n",
    "In the Class feature, there are three unique values. Since these values follow a logical order, we will use LabelEncoder instead of One Hot Encoder."
   ]
  },
  {
   "cell_type": "code",
   "execution_count": 23,
   "id": "25942c3b",
   "metadata": {},
   "outputs": [],
   "source": [
    "# Feature that is not scaled or encoded\n",
    "f=[ 'Inflight wifi service',\n",
    " 'Departure/Arrival time convenient',\n",
    " 'Ease of Online booking',\n",
    " 'Gate location',\n",
    " 'Food and drink',\n",
    " 'Online boarding',\n",
    " 'Seat comfort',\n",
    " 'Inflight entertainment',\n",
    " 'On-board service',\n",
    " 'Leg room service',\n",
    " 'Baggage handling',\n",
    " 'Checkin service',\n",
    " 'Inflight service',\n",
    " 'Cleanliness',\n",
    " 'Seat comfort high rating',\n",
    " 'Inflight entertainment high rating',\n",
    " 'On-board service high rating',\n",
    " 'Leg room high rating']\n",
    "\n",
    "X_tr = X_train[f].reset_index(drop=True)\n",
    "X_v = X_val[f].reset_index(drop=True)\n",
    "X_te = X_test[f].reset_index(drop=True)"
   ]
  },
  {
   "cell_type": "code",
   "execution_count": 24,
   "id": "6c14af97",
   "metadata": {},
   "outputs": [],
   "source": [
    "# Concate back\n",
    "X_train_cleaned = pd.concat([X_train_scaled,X_train_ohe,X_train_le,X_tr],axis=1)\n",
    "X_val_cleaned = pd.concat([X_val_scaled,X_val_ohe,X_val_le,X_v],axis=1)\n",
    "X_test_cleaned = pd.concat([X_test_scaled,X_test_ohe,X_test_le,X_te],axis=1)"
   ]
  },
  {
   "cell_type": "markdown",
   "id": "6b40202d",
   "metadata": {},
   "source": [
    "### Feature Selection"
   ]
  },
  {
   "cell_type": "code",
   "execution_count": 25,
   "id": "5a651f52",
   "metadata": {},
   "outputs": [
    {
     "name": "stdout",
     "output_type": "stream",
     "text": [
      "Number of Columns:  26\n"
     ]
    }
   ],
   "source": [
    "print(\"Number of Columns: \",len(X_train_cleaned.columns))"
   ]
  },
  {
   "cell_type": "markdown",
   "id": "3cb5f7ac",
   "metadata": {},
   "source": [
    "We have 29 features, which is a lot. To improve the model's performance and remove irrelevant or redundant features, we will perform feature selection. By reducing the number of features, we can enhance the model's efficiency and speed up the training and prediction processes. For this purpose, we will use Lasso regression, which helps identify and select the most important features. This way, we can optimize the model's performance while maintaining interpretability."
   ]
  },
  {
   "cell_type": "code",
   "execution_count": 26,
   "id": "407f87db",
   "metadata": {},
   "outputs": [
    {
     "data": {
      "text/html": [
       "<div>\n",
       "<style scoped>\n",
       "    .dataframe tbody tr th:only-of-type {\n",
       "        vertical-align: middle;\n",
       "    }\n",
       "\n",
       "    .dataframe tbody tr th {\n",
       "        vertical-align: top;\n",
       "    }\n",
       "\n",
       "    .dataframe thead th {\n",
       "        text-align: right;\n",
       "    }\n",
       "</style>\n",
       "<table border=\"1\" class=\"dataframe\">\n",
       "  <thead>\n",
       "    <tr style=\"text-align: right;\">\n",
       "      <th></th>\n",
       "      <th>Age</th>\n",
       "      <th>Flight Distance</th>\n",
       "      <th>Departure Delay in Minutes</th>\n",
       "      <th>Arrival Delay in Minutes</th>\n",
       "      <th>Gender_Male</th>\n",
       "      <th>Customer Type_disloyal Customer</th>\n",
       "      <th>Type of Travel_Personal Travel</th>\n",
       "      <th>Class</th>\n",
       "      <th>Inflight wifi service</th>\n",
       "      <th>Departure/Arrival time convenient</th>\n",
       "      <th>Ease of Online booking</th>\n",
       "      <th>Gate location</th>\n",
       "      <th>Food and drink</th>\n",
       "      <th>Online boarding</th>\n",
       "      <th>Seat comfort</th>\n",
       "      <th>Inflight entertainment</th>\n",
       "      <th>On-board service</th>\n",
       "      <th>Leg room service</th>\n",
       "      <th>Baggage handling</th>\n",
       "      <th>Checkin service</th>\n",
       "      <th>Inflight service</th>\n",
       "      <th>Cleanliness</th>\n",
       "      <th>Seat comfort high rating</th>\n",
       "      <th>Inflight entertainment high rating</th>\n",
       "      <th>On-board service high rating</th>\n",
       "      <th>Leg room high rating</th>\n",
       "    </tr>\n",
       "  </thead>\n",
       "  <tbody>\n",
       "    <tr>\n",
       "      <th>0</th>\n",
       "      <td>-0.879022</td>\n",
       "      <td>-0.158438</td>\n",
       "      <td>-0.805981</td>\n",
       "      <td>-0.811688</td>\n",
       "      <td>0.000000</td>\n",
       "      <td>0.000000</td>\n",
       "      <td>1.000000</td>\n",
       "      <td>1</td>\n",
       "      <td>2</td>\n",
       "      <td>4</td>\n",
       "      <td>2</td>\n",
       "      <td>5</td>\n",
       "      <td>5</td>\n",
       "      <td>2</td>\n",
       "      <td>5</td>\n",
       "      <td>5</td>\n",
       "      <td>5</td>\n",
       "      <td>4</td>\n",
       "      <td>4</td>\n",
       "      <td>3</td>\n",
       "      <td>5</td>\n",
       "      <td>5</td>\n",
       "      <td>1</td>\n",
       "      <td>1</td>\n",
       "      <td>1</td>\n",
       "      <td>1</td>\n",
       "    </tr>\n",
       "    <tr>\n",
       "      <th>1</th>\n",
       "      <td>-1.143269</td>\n",
       "      <td>-0.844702</td>\n",
       "      <td>-0.805981</td>\n",
       "      <td>1.015212</td>\n",
       "      <td>1.000000</td>\n",
       "      <td>0.000000</td>\n",
       "      <td>0.000000</td>\n",
       "      <td>0</td>\n",
       "      <td>3</td>\n",
       "      <td>5</td>\n",
       "      <td>5</td>\n",
       "      <td>5</td>\n",
       "      <td>3</td>\n",
       "      <td>3</td>\n",
       "      <td>3</td>\n",
       "      <td>3</td>\n",
       "      <td>1</td>\n",
       "      <td>1</td>\n",
       "      <td>3</td>\n",
       "      <td>2</td>\n",
       "      <td>3</td>\n",
       "      <td>3</td>\n",
       "      <td>0</td>\n",
       "      <td>0</td>\n",
       "      <td>0</td>\n",
       "      <td>0</td>\n",
       "    </tr>\n",
       "    <tr>\n",
       "      <th>2</th>\n",
       "      <td>1.301009</td>\n",
       "      <td>-1.264613</td>\n",
       "      <td>1.429946</td>\n",
       "      <td>1.369399</td>\n",
       "      <td>0.000000</td>\n",
       "      <td>0.000000</td>\n",
       "      <td>1.000000</td>\n",
       "      <td>1</td>\n",
       "      <td>1</td>\n",
       "      <td>3</td>\n",
       "      <td>1</td>\n",
       "      <td>3</td>\n",
       "      <td>2</td>\n",
       "      <td>3</td>\n",
       "      <td>3</td>\n",
       "      <td>4</td>\n",
       "      <td>4</td>\n",
       "      <td>1</td>\n",
       "      <td>4</td>\n",
       "      <td>3</td>\n",
       "      <td>4</td>\n",
       "      <td>4</td>\n",
       "      <td>0</td>\n",
       "      <td>1</td>\n",
       "      <td>1</td>\n",
       "      <td>0</td>\n",
       "    </tr>\n",
       "    <tr>\n",
       "      <th>3</th>\n",
       "      <td>-0.482653</td>\n",
       "      <td>0.028628</td>\n",
       "      <td>1.277201</td>\n",
       "      <td>0.435366</td>\n",
       "      <td>0.000000</td>\n",
       "      <td>0.000000</td>\n",
       "      <td>1.000000</td>\n",
       "      <td>1</td>\n",
       "      <td>2</td>\n",
       "      <td>3</td>\n",
       "      <td>2</td>\n",
       "      <td>4</td>\n",
       "      <td>4</td>\n",
       "      <td>2</td>\n",
       "      <td>4</td>\n",
       "      <td>4</td>\n",
       "      <td>3</td>\n",
       "      <td>2</td>\n",
       "      <td>4</td>\n",
       "      <td>1</td>\n",
       "      <td>4</td>\n",
       "      <td>4</td>\n",
       "      <td>1</td>\n",
       "      <td>1</td>\n",
       "      <td>0</td>\n",
       "      <td>0</td>\n",
       "    </tr>\n",
       "    <tr>\n",
       "      <th>4</th>\n",
       "      <td>-0.284469</td>\n",
       "      <td>0.135628</td>\n",
       "      <td>-0.805981</td>\n",
       "      <td>-0.811688</td>\n",
       "      <td>1.000000</td>\n",
       "      <td>1.000000</td>\n",
       "      <td>0.000000</td>\n",
       "      <td>0</td>\n",
       "      <td>2</td>\n",
       "      <td>2</td>\n",
       "      <td>2</td>\n",
       "      <td>1</td>\n",
       "      <td>2</td>\n",
       "      <td>2</td>\n",
       "      <td>5</td>\n",
       "      <td>2</td>\n",
       "      <td>2</td>\n",
       "      <td>2</td>\n",
       "      <td>3</td>\n",
       "      <td>2</td>\n",
       "      <td>2</td>\n",
       "      <td>2</td>\n",
       "      <td>1</td>\n",
       "      <td>0</td>\n",
       "      <td>0</td>\n",
       "      <td>0</td>\n",
       "    </tr>\n",
       "    <tr>\n",
       "      <th>...</th>\n",
       "      <td>...</td>\n",
       "      <td>...</td>\n",
       "      <td>...</td>\n",
       "      <td>...</td>\n",
       "      <td>...</td>\n",
       "      <td>...</td>\n",
       "      <td>...</td>\n",
       "      <td>...</td>\n",
       "      <td>...</td>\n",
       "      <td>...</td>\n",
       "      <td>...</td>\n",
       "      <td>...</td>\n",
       "      <td>...</td>\n",
       "      <td>...</td>\n",
       "      <td>...</td>\n",
       "      <td>...</td>\n",
       "      <td>...</td>\n",
       "      <td>...</td>\n",
       "      <td>...</td>\n",
       "      <td>...</td>\n",
       "      <td>...</td>\n",
       "      <td>...</td>\n",
       "      <td>...</td>\n",
       "      <td>...</td>\n",
       "      <td>...</td>\n",
       "      <td>...</td>\n",
       "    </tr>\n",
       "    <tr>\n",
       "      <th>20776</th>\n",
       "      <td>0.177962</td>\n",
       "      <td>-1.166395</td>\n",
       "      <td>-0.805981</td>\n",
       "      <td>-0.811688</td>\n",
       "      <td>1.000000</td>\n",
       "      <td>1.000000</td>\n",
       "      <td>0.000000</td>\n",
       "      <td>0</td>\n",
       "      <td>1</td>\n",
       "      <td>1</td>\n",
       "      <td>1</td>\n",
       "      <td>3</td>\n",
       "      <td>1</td>\n",
       "      <td>1</td>\n",
       "      <td>1</td>\n",
       "      <td>1</td>\n",
       "      <td>2</td>\n",
       "      <td>3</td>\n",
       "      <td>4</td>\n",
       "      <td>2</td>\n",
       "      <td>4</td>\n",
       "      <td>1</td>\n",
       "      <td>0</td>\n",
       "      <td>0</td>\n",
       "      <td>0</td>\n",
       "      <td>0</td>\n",
       "    </tr>\n",
       "    <tr>\n",
       "      <th>20777</th>\n",
       "      <td>-1.671761</td>\n",
       "      <td>-0.570891</td>\n",
       "      <td>-0.805981</td>\n",
       "      <td>-0.811688</td>\n",
       "      <td>1.000000</td>\n",
       "      <td>0.000000</td>\n",
       "      <td>1.000000</td>\n",
       "      <td>1</td>\n",
       "      <td>2</td>\n",
       "      <td>4</td>\n",
       "      <td>2</td>\n",
       "      <td>2</td>\n",
       "      <td>5</td>\n",
       "      <td>2</td>\n",
       "      <td>5</td>\n",
       "      <td>5</td>\n",
       "      <td>4</td>\n",
       "      <td>4</td>\n",
       "      <td>5</td>\n",
       "      <td>5</td>\n",
       "      <td>4</td>\n",
       "      <td>5</td>\n",
       "      <td>1</td>\n",
       "      <td>1</td>\n",
       "      <td>1</td>\n",
       "      <td>1</td>\n",
       "    </tr>\n",
       "    <tr>\n",
       "      <th>20778</th>\n",
       "      <td>-2.002069</td>\n",
       "      <td>0.011634</td>\n",
       "      <td>-0.014310</td>\n",
       "      <td>-0.811688</td>\n",
       "      <td>1.000000</td>\n",
       "      <td>0.000000</td>\n",
       "      <td>1.000000</td>\n",
       "      <td>1</td>\n",
       "      <td>2</td>\n",
       "      <td>5</td>\n",
       "      <td>2</td>\n",
       "      <td>3</td>\n",
       "      <td>5</td>\n",
       "      <td>2</td>\n",
       "      <td>5</td>\n",
       "      <td>5</td>\n",
       "      <td>4</td>\n",
       "      <td>4</td>\n",
       "      <td>2</td>\n",
       "      <td>3</td>\n",
       "      <td>5</td>\n",
       "      <td>5</td>\n",
       "      <td>1</td>\n",
       "      <td>1</td>\n",
       "      <td>1</td>\n",
       "      <td>1</td>\n",
       "    </tr>\n",
       "    <tr>\n",
       "      <th>20779</th>\n",
       "      <td>0.376147</td>\n",
       "      <td>1.826073</td>\n",
       "      <td>-0.805981</td>\n",
       "      <td>1.093899</td>\n",
       "      <td>0.000000</td>\n",
       "      <td>0.000000</td>\n",
       "      <td>0.000000</td>\n",
       "      <td>0</td>\n",
       "      <td>3</td>\n",
       "      <td>3</td>\n",
       "      <td>3</td>\n",
       "      <td>3</td>\n",
       "      <td>5</td>\n",
       "      <td>5</td>\n",
       "      <td>5</td>\n",
       "      <td>4</td>\n",
       "      <td>4</td>\n",
       "      <td>4</td>\n",
       "      <td>4</td>\n",
       "      <td>3</td>\n",
       "      <td>4</td>\n",
       "      <td>3</td>\n",
       "      <td>1</td>\n",
       "      <td>1</td>\n",
       "      <td>1</td>\n",
       "      <td>1</td>\n",
       "    </tr>\n",
       "    <tr>\n",
       "      <th>20780</th>\n",
       "      <td>-0.548715</td>\n",
       "      <td>-1.605372</td>\n",
       "      <td>-0.805981</td>\n",
       "      <td>-0.811688</td>\n",
       "      <td>1.000000</td>\n",
       "      <td>0.000000</td>\n",
       "      <td>0.000000</td>\n",
       "      <td>2</td>\n",
       "      <td>4</td>\n",
       "      <td>1</td>\n",
       "      <td>1</td>\n",
       "      <td>1</td>\n",
       "      <td>4</td>\n",
       "      <td>4</td>\n",
       "      <td>4</td>\n",
       "      <td>4</td>\n",
       "      <td>5</td>\n",
       "      <td>3</td>\n",
       "      <td>1</td>\n",
       "      <td>3</td>\n",
       "      <td>1</td>\n",
       "      <td>4</td>\n",
       "      <td>1</td>\n",
       "      <td>1</td>\n",
       "      <td>1</td>\n",
       "      <td>0</td>\n",
       "    </tr>\n",
       "  </tbody>\n",
       "</table>\n",
       "<p>20781 rows × 26 columns</p>\n",
       "</div>"
      ],
      "text/plain": [
       "            Age  Flight Distance  Departure Delay in Minutes  \\\n",
       "0     -0.879022        -0.158438                   -0.805981   \n",
       "1     -1.143269        -0.844702                   -0.805981   \n",
       "2      1.301009        -1.264613                    1.429946   \n",
       "3     -0.482653         0.028628                    1.277201   \n",
       "4     -0.284469         0.135628                   -0.805981   \n",
       "...         ...              ...                         ...   \n",
       "20776  0.177962        -1.166395                   -0.805981   \n",
       "20777 -1.671761        -0.570891                   -0.805981   \n",
       "20778 -2.002069         0.011634                   -0.014310   \n",
       "20779  0.376147         1.826073                   -0.805981   \n",
       "20780 -0.548715        -1.605372                   -0.805981   \n",
       "\n",
       "       Arrival Delay in Minutes  Gender_Male  Customer Type_disloyal Customer  \\\n",
       "0                     -0.811688     0.000000                         0.000000   \n",
       "1                      1.015212     1.000000                         0.000000   \n",
       "2                      1.369399     0.000000                         0.000000   \n",
       "3                      0.435366     0.000000                         0.000000   \n",
       "4                     -0.811688     1.000000                         1.000000   \n",
       "...                         ...          ...                              ...   \n",
       "20776                 -0.811688     1.000000                         1.000000   \n",
       "20777                 -0.811688     1.000000                         0.000000   \n",
       "20778                 -0.811688     1.000000                         0.000000   \n",
       "20779                  1.093899     0.000000                         0.000000   \n",
       "20780                 -0.811688     1.000000                         0.000000   \n",
       "\n",
       "       Type of Travel_Personal Travel  Class  Inflight wifi service  \\\n",
       "0                            1.000000      1                      2   \n",
       "1                            0.000000      0                      3   \n",
       "2                            1.000000      1                      1   \n",
       "3                            1.000000      1                      2   \n",
       "4                            0.000000      0                      2   \n",
       "...                               ...    ...                    ...   \n",
       "20776                        0.000000      0                      1   \n",
       "20777                        1.000000      1                      2   \n",
       "20778                        1.000000      1                      2   \n",
       "20779                        0.000000      0                      3   \n",
       "20780                        0.000000      2                      4   \n",
       "\n",
       "       Departure/Arrival time convenient  Ease of Online booking  \\\n",
       "0                                      4                       2   \n",
       "1                                      5                       5   \n",
       "2                                      3                       1   \n",
       "3                                      3                       2   \n",
       "4                                      2                       2   \n",
       "...                                  ...                     ...   \n",
       "20776                                  1                       1   \n",
       "20777                                  4                       2   \n",
       "20778                                  5                       2   \n",
       "20779                                  3                       3   \n",
       "20780                                  1                       1   \n",
       "\n",
       "       Gate location  Food and drink  Online boarding  Seat comfort  \\\n",
       "0                  5               5                2             5   \n",
       "1                  5               3                3             3   \n",
       "2                  3               2                3             3   \n",
       "3                  4               4                2             4   \n",
       "4                  1               2                2             5   \n",
       "...              ...             ...              ...           ...   \n",
       "20776              3               1                1             1   \n",
       "20777              2               5                2             5   \n",
       "20778              3               5                2             5   \n",
       "20779              3               5                5             5   \n",
       "20780              1               4                4             4   \n",
       "\n",
       "       Inflight entertainment  On-board service  Leg room service  \\\n",
       "0                           5                 5                 4   \n",
       "1                           3                 1                 1   \n",
       "2                           4                 4                 1   \n",
       "3                           4                 3                 2   \n",
       "4                           2                 2                 2   \n",
       "...                       ...               ...               ...   \n",
       "20776                       1                 2                 3   \n",
       "20777                       5                 4                 4   \n",
       "20778                       5                 4                 4   \n",
       "20779                       4                 4                 4   \n",
       "20780                       4                 5                 3   \n",
       "\n",
       "       Baggage handling  Checkin service  Inflight service  Cleanliness  \\\n",
       "0                     4                3                 5            5   \n",
       "1                     3                2                 3            3   \n",
       "2                     4                3                 4            4   \n",
       "3                     4                1                 4            4   \n",
       "4                     3                2                 2            2   \n",
       "...                 ...              ...               ...          ...   \n",
       "20776                 4                2                 4            1   \n",
       "20777                 5                5                 4            5   \n",
       "20778                 2                3                 5            5   \n",
       "20779                 4                3                 4            3   \n",
       "20780                 1                3                 1            4   \n",
       "\n",
       "       Seat comfort high rating  Inflight entertainment high rating  \\\n",
       "0                             1                                   1   \n",
       "1                             0                                   0   \n",
       "2                             0                                   1   \n",
       "3                             1                                   1   \n",
       "4                             1                                   0   \n",
       "...                         ...                                 ...   \n",
       "20776                         0                                   0   \n",
       "20777                         1                                   1   \n",
       "20778                         1                                   1   \n",
       "20779                         1                                   1   \n",
       "20780                         1                                   1   \n",
       "\n",
       "       On-board service high rating  Leg room high rating  \n",
       "0                                 1                     1  \n",
       "1                                 0                     0  \n",
       "2                                 1                     0  \n",
       "3                                 0                     0  \n",
       "4                                 0                     0  \n",
       "...                             ...                   ...  \n",
       "20776                             0                     0  \n",
       "20777                             1                     1  \n",
       "20778                             1                     1  \n",
       "20779                             1                     1  \n",
       "20780                             1                     0  \n",
       "\n",
       "[20781 rows x 26 columns]"
      ]
     },
     "execution_count": 26,
     "metadata": {},
     "output_type": "execute_result"
    }
   ],
   "source": [
    "X_test_cleaned"
   ]
  },
  {
   "cell_type": "code",
   "execution_count": 27,
   "id": "6b02c5f1",
   "metadata": {},
   "outputs": [
    {
     "name": "stdout",
     "output_type": "stream",
     "text": [
      "Best alpha: 0.01\n",
      "Number of selected feature: 19\n",
      "Selected feature: ['Flight Distance' 'Arrival Delay in Minutes'\n",
      " 'Customer Type_disloyal Customer' 'Type of Travel_Personal Travel'\n",
      " 'Class' 'Inflight wifi service' 'Departure/Arrival time convenient'\n",
      " 'Ease of Online booking' 'Online boarding' 'Inflight entertainment'\n",
      " 'On-board service' 'Leg room service' 'Baggage handling'\n",
      " 'Checkin service' 'Inflight service' 'Cleanliness'\n",
      " 'Seat comfort high rating' 'Inflight entertainment high rating'\n",
      " 'Leg room high rating']\n"
     ]
    }
   ],
   "source": [
    "from sklearn.linear_model import Lasso\n",
    "from sklearn.model_selection import GridSearchCV\n",
    "from sklearn.datasets import make_regression\n",
    "from sklearn.model_selection import train_test_split\n",
    "\n",
    "\n",
    "# Create a Lasso regression object\n",
    "lasso = Lasso()\n",
    "\n",
    "# Define the parameter grid for alpha values\n",
    "param_grid = {'alpha': np.arange(0.01,1,0.05)}\n",
    "\n",
    "# Create a GridSearchCV object\n",
    "grid_search = GridSearchCV(lasso, param_grid, cv=5)\n",
    "\n",
    "# Fit the GridSearchCV object on the training data\n",
    "grid_search.fit(X_train_cleaned, y_train)\n",
    "\n",
    "# Retrieve the best alpha value and corresponding model\n",
    "best_alpha = grid_search.best_params_['alpha']\n",
    "best_model = grid_search.best_estimator_\n",
    "\n",
    "# Fit the Lasso regression model again with the best alpha\n",
    "best_model.fit(X_train_cleaned, y_train)\n",
    "\n",
    "# Retrieve the selected feature\n",
    "coefficients = grid_search.best_estimator_.coef_\n",
    "selected_feature = np.array(X_train_cleaned.columns)[coefficients!=0]\n",
    "\n",
    "# Evaluate the performance on the testing set\n",
    "#score = best_model.score(X_test, y_test)\n",
    "\n",
    "print(\"Best alpha:\", best_alpha)\n",
    "print(\"Number of selected feature:\", len(selected_feature))\n",
    "print(\"Selected feature:\", (selected_feature))"
   ]
  },
  {
   "cell_type": "markdown",
   "id": "038cb1ef",
   "metadata": {},
   "source": [
    "Out of the original 26 features, the feature selection using Lasso regression resulted in only 19 features remaining.\n",
    "\n",
    "Now, we will compare the performance of the model using the original dataset with all 26 features and the reduced dataset with only the selected 19 features. This will help us assess whether the feature selection process has improved the model's performance or not."
   ]
  },
  {
   "cell_type": "markdown",
   "id": "578b6be7",
   "metadata": {},
   "source": [
    "# Modeling"
   ]
  },
  {
   "cell_type": "markdown",
   "id": "08262412",
   "metadata": {},
   "source": [
    "#### Compare the Model"
   ]
  },
  {
   "cell_type": "code",
   "execution_count": 28,
   "id": "60613273",
   "metadata": {},
   "outputs": [
    {
     "name": "stdout",
     "output_type": "stream",
     "text": [
      "Accuracy: 0.9624060150375939\n"
     ]
    }
   ],
   "source": [
    "from sklearn.ensemble import RandomForestClassifier\n",
    "from sklearn.metrics import accuracy_score\n",
    "\n",
    "# Create a Random Forest classifier\n",
    "rf_classifier = RandomForestClassifier(n_estimators=100, random_state=42)\n",
    "\n",
    "# Fit the classifier to the training data\n",
    "rf_classifier.fit(X_train_cleaned, y_train)\n",
    "\n",
    "# Predict on the validation data\n",
    "y_pred = rf_classifier.predict(X_val_cleaned)\n",
    "\n",
    "# Calculate the accuracy score\n",
    "accuracy = accuracy_score(y_val, y_pred)\n",
    "print(\"Accuracy:\", accuracy)\n"
   ]
  },
  {
   "cell_type": "code",
   "execution_count": 29,
   "id": "bf2de532",
   "metadata": {},
   "outputs": [
    {
     "name": "stdout",
     "output_type": "stream",
     "text": [
      "Accuracy: 0.9595789473684211\n"
     ]
    }
   ],
   "source": [
    "# Create a Random Forest classifier\n",
    "rf_classifier = RandomForestClassifier(n_estimators=100, random_state=42)\n",
    "\n",
    "# Fit the classifier to the training data\n",
    "rf_classifier.fit(X_train_cleaned[selected_feature], y_train)\n",
    "\n",
    "# Predict on the validation data\n",
    "y_pred = rf_classifier.predict(X_val_cleaned[selected_feature])\n",
    "\n",
    "# Calculate the accuracy score\n",
    "accuracy = accuracy_score(y_val, y_pred)\n",
    "print(\"Accuracy:\", accuracy)\n"
   ]
  },
  {
   "cell_type": "markdown",
   "id": "04dfeadd",
   "metadata": {},
   "source": [
    "There is a difference of only 0.003 in terms of accuracy, so I believe the feature selection has performed well. This minimal difference suggests that the selected features are valuable in improving the model's predictive capabilities. Feature selection can effectively enhance model efficiency, reduce overfitting, and focus on the most relevant features. Now we will compare the model like Logistic Regression, KNN, Catboost, LightGBM, and XGBoost."
   ]
  },
  {
   "cell_type": "code",
   "execution_count": 30,
   "id": "a17ad5d2",
   "metadata": {},
   "outputs": [
    {
     "name": "stdout",
     "output_type": "stream",
     "text": [
      "Lasso Regression Accuracy: 0.882827067669173\n",
      "KNN Accuracy: 0.9303458646616541\n",
      "CatBoost Accuracy: 0.9613834586466166\n",
      "LightGBM Accuracy: 0.960421052631579\n",
      "XGBoost Accuracy: 0.958796992481203\n"
     ]
    }
   ],
   "source": [
    "from sklearn.linear_model import LogisticRegression\n",
    "from sklearn.neighbors import KNeighborsClassifier\n",
    "from catboost import CatBoostClassifier\n",
    "from lightgbm import LGBMClassifier\n",
    "from xgboost import XGBClassifier\n",
    "\n",
    "# Create a dictionary to store the models\n",
    "models = {\n",
    "    \"Lasso Regression\": LogisticRegression(penalty='l2'),\n",
    "    \"KNN\": KNeighborsClassifier(),\n",
    "    \"CatBoost\": CatBoostClassifier(verbose=False),\n",
    "    \"LightGBM\": LGBMClassifier(),\n",
    "    \"XGBoost\": XGBClassifier()\n",
    "}\n",
    "\n",
    "# Train and evaluate each model\n",
    "for model_name, model in models.items():\n",
    "    # Fit the model to the training data\n",
    "    model.fit(X_train_cleaned[selected_feature], y_train)\n",
    "    \n",
    "    # Predict on the validation data\n",
    "    y_pred = model.predict(X_val_cleaned[selected_feature])\n",
    "    \n",
    "    # Calculate the accuracy score\n",
    "    accuracy = accuracy_score(y_val, y_pred)\n",
    "    \n",
    "    print(f\"{model_name} Accuracy: {accuracy}\")\n"
   ]
  },
  {
   "cell_type": "markdown",
   "id": "1000dadf",
   "metadata": {},
   "source": [
    "We can see that Catboost have the highest accuracy, we will try to hyperparameter tuning the model below using RandomSearchCV. We use RandomSearch instead of GridSearch to get the faster time tuning."
   ]
  },
  {
   "cell_type": "markdown",
   "id": "fbb93b11",
   "metadata": {},
   "source": [
    "### Hyperparameter Catboost"
   ]
  },
  {
   "cell_type": "code",
   "execution_count": 31,
   "id": "e21b8461",
   "metadata": {},
   "outputs": [
    {
     "name": "stdout",
     "output_type": "stream",
     "text": [
      "Best Parameters: {'depth': 8, 'iterations': 200, 'l2_leaf_reg': 1.906064345328208, 'learning_rate': 0.13367720186661747}\n",
      "Best Score: 0.9587807314360794\n"
     ]
    }
   ],
   "source": [
    "from catboost import CatBoostClassifier\n",
    "from sklearn.model_selection import RandomizedSearchCV\n",
    "from scipy.stats import uniform\n",
    "\n",
    "# Define the CatBoost classifier\n",
    "model = CatBoostClassifier(verbose=False)\n",
    "\n",
    "# Define the hyperparameter grid\n",
    "param_grid = {\n",
    "    'iterations': [100, 200, 300],\n",
    "    'learning_rate': uniform(0.01, 0.2),\n",
    "    'depth': [4, 6, 8],\n",
    "    'l2_leaf_reg': uniform(1, 10)\n",
    "}\n",
    "\n",
    "# Create the RandomizedSearchCV object\n",
    "random_search = RandomizedSearchCV(model, param_distributions=param_grid, n_iter=10, cv=5, scoring='accuracy', random_state=42)\n",
    "\n",
    "# Fit the model using RandomizedSearchCV\n",
    "random_search.fit(X_train_cleaned[selected_feature], y_train)\n",
    "\n",
    "# Print the best parameters and best score\n",
    "print(\"Best Parameters:\", random_search.best_params_)\n",
    "print(\"Best Score:\", random_search.best_score_)\n"
   ]
  },
  {
   "cell_type": "markdown",
   "id": "e495bd6b",
   "metadata": {},
   "source": [
    "# Evaluation"
   ]
  },
  {
   "cell_type": "code",
   "execution_count": 32,
   "id": "0a6ffeca",
   "metadata": {
    "scrolled": true
   },
   "outputs": [],
   "source": [
    "random_search.best_estimator_.save_model(\"model.cb\")"
   ]
  },
  {
   "cell_type": "code",
   "execution_count": 33,
   "id": "335abddc",
   "metadata": {},
   "outputs": [
    {
     "name": "stdout",
     "output_type": "stream",
     "text": [
      "Accuracy: 0.9604812030075188\n"
     ]
    }
   ],
   "source": [
    "y_pred = random_search.best_estimator_.predict(X_val_cleaned[selected_feature])\n",
    "accuracy = accuracy_score(y_val, y_pred)\n",
    "print(f\"Accuracy: {accuracy}\")"
   ]
  },
  {
   "cell_type": "code",
   "execution_count": 34,
   "id": "a6aa3149",
   "metadata": {},
   "outputs": [
    {
     "name": "stdout",
     "output_type": "stream",
     "text": [
      "Accuracy: 0.9601077907704153\n"
     ]
    }
   ],
   "source": [
    "y_pred = random_search.best_estimator_.predict(X_test_cleaned[selected_feature])\n",
    "accuracy = accuracy_score(y_test, y_pred)\n",
    "print(f\"Accuracy: {accuracy}\")"
   ]
  },
  {
   "cell_type": "markdown",
   "id": "954298bf",
   "metadata": {},
   "source": [
    "\n",
    "After tuning the model, we obtained similar accuracies for both the validation set and the test set. This is a positive indication as it suggests that we are not overfitting the model. Moreover, the model demonstrates the ability to make accurate predictions on unseen data."
   ]
  },
  {
   "cell_type": "markdown",
   "id": "ff8a1455",
   "metadata": {},
   "source": [
    "### Feature Importance"
   ]
  },
  {
   "cell_type": "code",
   "execution_count": 35,
   "id": "ecd0fcce",
   "metadata": {},
   "outputs": [
    {
     "data": {
      "image/png": "[encoded data removed]",
      "text/plain": [
       "<Figure size 1000x600 with 1 Axes>"
      ]
     },
     "metadata": {},
     "output_type": "display_data"
    }
   ],
   "source": [
    "import matplotlib.pyplot as plt\n",
    "\n",
    "# Get feature importances from the best estimator\n",
    "feature_importances = random_search.best_estimator_.feature_importances_\n",
    "\n",
    "# Get the indices that would sort the feature importances array in descending order\n",
    "sorted_indices = feature_importances.argsort()[::-1]\n",
    "\n",
    "# Sort the feature importances and selected feature names accordingly\n",
    "sorted_feature_importances = feature_importances[sorted_indices]\n",
    "sorted_selected_feature = [selected_feature[i] for i in sorted_indices]\n",
    "\n",
    "# Create a horizontal bar plot of sorted feature importances with longest bar on top\n",
    "plt.figure(figsize=(10, 6))\n",
    "plt.barh(sorted_selected_feature, sorted_feature_importances, align='center')\n",
    "plt.xlabel(\"Importance\")\n",
    "plt.ylabel(\"Features\")\n",
    "plt.title(\"Feature Importance Plot\")\n",
    "plt.gca().invert_yaxis()  # Invert the y-axis to show the longest bar on top\n",
    "plt.show()\n"
   ]
  },
  {
   "cell_type": "markdown",
   "id": "657b4341",
   "metadata": {},
   "source": [
    "We can observe that the top three most important features are Inflight WiFi Service, Type of Travel (Personal Travel), and Online Boarding. However, unfortunately, the features we created earlier, such as Seat Comfort High Rating, Leg Room High Rating, and Arrival Delay in Minutes, belong to the three least important features"
   ]
  },
  {
   "cell_type": "markdown",
   "id": "405bf80c",
   "metadata": {},
   "source": [
    "### Cross Validation"
   ]
  },
  {
   "cell_type": "code",
   "execution_count": 36,
   "id": "50608138",
   "metadata": {},
   "outputs": [],
   "source": [
    "X_cleaned = pd.concat([X_train_cleaned,X_val_cleaned,X_test_cleaned])[selected_feature]\n",
    "y_cleaned = pd.concat([y_train,y_val,y_test])"
   ]
  },
  {
   "cell_type": "code",
   "execution_count": 37,
   "id": "1de4f3e8",
   "metadata": {},
   "outputs": [
    {
     "name": "stdout",
     "output_type": "stream",
     "text": [
      "Mean Accuracy: 0.9606271174171231\n"
     ]
    }
   ],
   "source": [
    "from sklearn.model_selection import cross_val_score\n",
    "\n",
    "# Perform k-fold cross-validation\n",
    "k = 5  # Number of folds\n",
    "scores = cross_val_score(random_search.best_estimator_, X_cleaned, y_cleaned, cv=k, scoring='accuracy')\n",
    "\n",
    "# Calculate the mean accuracy\n",
    "mean_accuracy = scores.mean()\n",
    "print(f\"Mean Accuracy: {mean_accuracy}\")"
   ]
  },
  {
   "cell_type": "markdown",
   "id": "d61d2dbb",
   "metadata": {},
   "source": [
    "To ensure that we do not overfit the model, we will perform cross-validation. Since the dataset is not imbalanced, we will use K-Fold cross-validation. The cross-validation results are still consistent with the previous evaluations, indicating that the model performs well and does not overfit. Overall, the model appears to be in good shape."
   ]
  }
 ],
 "metadata": {
  "kernelspec": {
   "display_name": "Python 3 (ipykernel)",
   "language": "python",
   "name": "python3"
  },
  "language_info": {
   "codemirror_mode": {
    "name": "ipython",
    "version": 3
   },
   "file_extension": ".py",
   "mimetype": "text/x-python",
   "name": "python",
   "nbconvert_exporter": "python",
   "pygments_lexer": "ipython3",
   "version": "3.10.9"
  }
 },
 "nbformat": 4,
 "nbformat_minor": 5
}
